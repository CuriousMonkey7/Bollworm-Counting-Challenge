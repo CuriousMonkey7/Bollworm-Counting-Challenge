{
 "cells": [
  {
   "cell_type": "code",
   "execution_count": 1,
   "id": "d2e3ce5f",
   "metadata": {},
   "outputs": [
    {
     "name": "stderr",
     "output_type": "stream",
     "text": [
      "/opt/conda/envs/bollworm/lib/python3.10/site-packages/tqdm/auto.py:22: TqdmWarning: IProgress not found. Please update jupyter and ipywidgets. See https://ipywidgets.readthedocs.io/en/stable/user_install.html\n",
      "  from .autonotebook import tqdm as notebook_tqdm\n"
     ]
    }
   ],
   "source": [
    "import random\n",
    "import gc\n",
    "import argparse\n",
    "import os\n",
    "import time\n",
    "import copy\n",
    "import pandas as pd\n",
    "import numpy as np\n",
    "from collections import defaultdict\n",
    "\n",
    "# Sklearn\n",
    "from sklearn.model_selection import StratifiedKFold\n",
    "\n",
    "# PyTorch\n",
    "import torch\n",
    "import torch.nn as nn\n",
    "import torch.optim as optim\n",
    "\n",
    "os.environ[\"CUDA_LAUNCH_BLOCKING\"] = \"1\"\n",
    "\n",
    "# WandB\n",
    "import wandb\n",
    "\n",
    "# Custom Import\n",
    "from utils.loader import get_loaders\n",
    "from utils.train_utils import train_one_epoch, valid_one_epoch\n",
    "from configs import filter_config\n",
    "from utils.models import build_model, load_model\n",
    "from utils.metric import get_metrics"
   ]
  },
  {
   "cell_type": "code",
   "execution_count": 13,
   "id": "9af81381",
   "metadata": {},
   "outputs": [],
   "source": [
    "CFG = filter_config.get_config()"
   ]
  },
  {
   "cell_type": "code",
   "execution_count": 14,
   "id": "16e1b60e",
   "metadata": {},
   "outputs": [
    {
     "data": {
      "text/html": [
       "<div>\n",
       "<style scoped>\n",
       "    .dataframe tbody tr th:only-of-type {\n",
       "        vertical-align: middle;\n",
       "    }\n",
       "\n",
       "    .dataframe tbody tr th {\n",
       "        vertical-align: top;\n",
       "    }\n",
       "\n",
       "    .dataframe thead th {\n",
       "        text-align: right;\n",
       "    }\n",
       "</style>\n",
       "<table border=\"1\" class=\"dataframe\">\n",
       "  <thead>\n",
       "    <tr style=\"text-align: right;\">\n",
       "      <th></th>\n",
       "      <th>image_id_worm</th>\n",
       "      <th>bw</th>\n",
       "      <th>fold</th>\n",
       "    </tr>\n",
       "  </thead>\n",
       "  <tbody>\n",
       "    <tr>\n",
       "      <th>0</th>\n",
       "      <td>id_0002ea6f15c7fa6f4c221783.jpg</td>\n",
       "      <td>1</td>\n",
       "      <td>2.0</td>\n",
       "    </tr>\n",
       "    <tr>\n",
       "      <th>1</th>\n",
       "      <td>id_0005ef295aafe6acc63587db.jpg</td>\n",
       "      <td>1</td>\n",
       "      <td>0.0</td>\n",
       "    </tr>\n",
       "    <tr>\n",
       "      <th>2</th>\n",
       "      <td>id_00084298dd030a500033ff78.jpg</td>\n",
       "      <td>0</td>\n",
       "      <td>4.0</td>\n",
       "    </tr>\n",
       "    <tr>\n",
       "      <th>3</th>\n",
       "      <td>id_00093f2c76f6488737325859.jpg</td>\n",
       "      <td>1</td>\n",
       "      <td>1.0</td>\n",
       "    </tr>\n",
       "    <tr>\n",
       "      <th>4</th>\n",
       "      <td>id_000b2e6c437c643f25d4a6c3.jpg</td>\n",
       "      <td>1</td>\n",
       "      <td>2.0</td>\n",
       "    </tr>\n",
       "    <tr>\n",
       "      <th>...</th>\n",
       "      <td>...</td>\n",
       "      <td>...</td>\n",
       "      <td>...</td>\n",
       "    </tr>\n",
       "    <tr>\n",
       "      <th>9132</th>\n",
       "      <td>id_ffe6e193dd78b7258d864f6b.jpg</td>\n",
       "      <td>1</td>\n",
       "      <td>4.0</td>\n",
       "    </tr>\n",
       "    <tr>\n",
       "      <th>9133</th>\n",
       "      <td>id_ffe98feb1e592e887b81c3f0.jpg</td>\n",
       "      <td>1</td>\n",
       "      <td>4.0</td>\n",
       "    </tr>\n",
       "    <tr>\n",
       "      <th>9134</th>\n",
       "      <td>id_ffef90ecf47baa38434f84fb.jpg</td>\n",
       "      <td>1</td>\n",
       "      <td>4.0</td>\n",
       "    </tr>\n",
       "    <tr>\n",
       "      <th>9135</th>\n",
       "      <td>id_fff06bb2e59bfce437ac9fc0.jpg</td>\n",
       "      <td>0</td>\n",
       "      <td>3.0</td>\n",
       "    </tr>\n",
       "    <tr>\n",
       "      <th>9136</th>\n",
       "      <td>id_fffdca893564aa86ff5be4cc.jpg</td>\n",
       "      <td>1</td>\n",
       "      <td>0.0</td>\n",
       "    </tr>\n",
       "  </tbody>\n",
       "</table>\n",
       "<p>9137 rows × 3 columns</p>\n",
       "</div>"
      ],
      "text/plain": [
       "                        image_id_worm  bw  fold\n",
       "0     id_0002ea6f15c7fa6f4c221783.jpg   1   2.0\n",
       "1     id_0005ef295aafe6acc63587db.jpg   1   0.0\n",
       "2     id_00084298dd030a500033ff78.jpg   0   4.0\n",
       "3     id_00093f2c76f6488737325859.jpg   1   1.0\n",
       "4     id_000b2e6c437c643f25d4a6c3.jpg   1   2.0\n",
       "...                               ...  ..   ...\n",
       "9132  id_ffe6e193dd78b7258d864f6b.jpg   1   4.0\n",
       "9133  id_ffe98feb1e592e887b81c3f0.jpg   1   4.0\n",
       "9134  id_ffef90ecf47baa38434f84fb.jpg   1   4.0\n",
       "9135  id_fff06bb2e59bfce437ac9fc0.jpg   0   3.0\n",
       "9136  id_fffdca893564aa86ff5be4cc.jpg   1   0.0\n",
       "\n",
       "[9137 rows x 3 columns]"
      ]
     },
     "execution_count": 14,
     "metadata": {},
     "output_type": "execute_result"
    }
   ],
   "source": [
    "train_filter = pd.read_csv(\"data/preproc/train_filter.csv\")\n",
    "train_filter\n"
   ]
  },
  {
   "cell_type": "code",
   "execution_count": 15,
   "id": "a0da10fb",
   "metadata": {},
   "outputs": [
    {
     "data": {
      "text/html": [
       "<div>\n",
       "<style scoped>\n",
       "    .dataframe tbody tr th:only-of-type {\n",
       "        vertical-align: middle;\n",
       "    }\n",
       "\n",
       "    .dataframe tbody tr th {\n",
       "        vertical-align: top;\n",
       "    }\n",
       "\n",
       "    .dataframe thead th {\n",
       "        text-align: right;\n",
       "    }\n",
       "</style>\n",
       "<table border=\"1\" class=\"dataframe\">\n",
       "  <thead>\n",
       "    <tr style=\"text-align: right;\">\n",
       "      <th></th>\n",
       "      <th>image_id_worm</th>\n",
       "      <th>bw</th>\n",
       "      <th>fold</th>\n",
       "    </tr>\n",
       "  </thead>\n",
       "  <tbody>\n",
       "    <tr>\n",
       "      <th>0</th>\n",
       "      <td>id_0005ef295aafe6acc63587db.jpg</td>\n",
       "      <td>1</td>\n",
       "      <td>0.0</td>\n",
       "    </tr>\n",
       "    <tr>\n",
       "      <th>1</th>\n",
       "      <td>id_00750938fb12fad4fd8fad24.jpg</td>\n",
       "      <td>1</td>\n",
       "      <td>0.0</td>\n",
       "    </tr>\n",
       "    <tr>\n",
       "      <th>2</th>\n",
       "      <td>id_009d7e2ef3c4f47b14c6c4c3.jpg</td>\n",
       "      <td>0</td>\n",
       "      <td>0.0</td>\n",
       "    </tr>\n",
       "    <tr>\n",
       "      <th>3</th>\n",
       "      <td>id_00e5892f475750f80a9f9ce5.jpg</td>\n",
       "      <td>0</td>\n",
       "      <td>0.0</td>\n",
       "    </tr>\n",
       "    <tr>\n",
       "      <th>4</th>\n",
       "      <td>id_0128f4371f1b1a678062cff6.jpg</td>\n",
       "      <td>1</td>\n",
       "      <td>0.0</td>\n",
       "    </tr>\n",
       "    <tr>\n",
       "      <th>...</th>\n",
       "      <td>...</td>\n",
       "      <td>...</td>\n",
       "      <td>...</td>\n",
       "    </tr>\n",
       "    <tr>\n",
       "      <th>1823</th>\n",
       "      <td>id_ff239c464c474c0936fd5d9c.jpg</td>\n",
       "      <td>0</td>\n",
       "      <td>0.0</td>\n",
       "    </tr>\n",
       "    <tr>\n",
       "      <th>1824</th>\n",
       "      <td>id_ff52ef03790a72f1ca7c6837.jpg</td>\n",
       "      <td>1</td>\n",
       "      <td>0.0</td>\n",
       "    </tr>\n",
       "    <tr>\n",
       "      <th>1825</th>\n",
       "      <td>id_ff6c6dc955223c93456ae3b9.jpg</td>\n",
       "      <td>1</td>\n",
       "      <td>0.0</td>\n",
       "    </tr>\n",
       "    <tr>\n",
       "      <th>1826</th>\n",
       "      <td>id_ffc5b54765267f4aa7f015ca.jpg</td>\n",
       "      <td>1</td>\n",
       "      <td>0.0</td>\n",
       "    </tr>\n",
       "    <tr>\n",
       "      <th>1827</th>\n",
       "      <td>id_fffdca893564aa86ff5be4cc.jpg</td>\n",
       "      <td>1</td>\n",
       "      <td>0.0</td>\n",
       "    </tr>\n",
       "  </tbody>\n",
       "</table>\n",
       "<p>1828 rows × 3 columns</p>\n",
       "</div>"
      ],
      "text/plain": [
       "                        image_id_worm  bw  fold\n",
       "0     id_0005ef295aafe6acc63587db.jpg   1   0.0\n",
       "1     id_00750938fb12fad4fd8fad24.jpg   1   0.0\n",
       "2     id_009d7e2ef3c4f47b14c6c4c3.jpg   0   0.0\n",
       "3     id_00e5892f475750f80a9f9ce5.jpg   0   0.0\n",
       "4     id_0128f4371f1b1a678062cff6.jpg   1   0.0\n",
       "...                               ...  ..   ...\n",
       "1823  id_ff239c464c474c0936fd5d9c.jpg   0   0.0\n",
       "1824  id_ff52ef03790a72f1ca7c6837.jpg   1   0.0\n",
       "1825  id_ff6c6dc955223c93456ae3b9.jpg   1   0.0\n",
       "1826  id_ffc5b54765267f4aa7f015ca.jpg   1   0.0\n",
       "1827  id_fffdca893564aa86ff5be4cc.jpg   1   0.0\n",
       "\n",
       "[1828 rows x 3 columns]"
      ]
     },
     "execution_count": 15,
     "metadata": {},
     "output_type": "execute_result"
    }
   ],
   "source": [
    "fold=0\n",
    "val_df = train_filter.query(\"fold==@fold\").reset_index(drop=True)\n",
    "val_df"
   ]
  },
  {
   "cell_type": "code",
   "execution_count": 16,
   "id": "bff7bd6d",
   "metadata": {},
   "outputs": [],
   "source": [
    "val_loader= get_loaders(val_df,phase=\"val\")"
   ]
  },
  {
   "cell_type": "code",
   "execution_count": 17,
   "id": "ab6fe568",
   "metadata": {},
   "outputs": [
    {
     "name": "stdout",
     "output_type": "stream",
     "text": [
      "checkpoint.pth.tar  incorrect_preds.csv  test_incorrect_preds.csv\r\n",
      "history.pth\t    model_best.pth.tar\r\n"
     ]
    }
   ],
   "source": [
    "!ls runs/handle_white_neg/datacorrected_efficientnet_b4_aug++"
   ]
  },
  {
   "cell_type": "code",
   "execution_count": 18,
   "id": "7451cb1d",
   "metadata": {},
   "outputs": [
    {
     "name": "stdout",
     "output_type": "stream",
     "text": [
      "Model Architecture: efficientnet_b4\n"
     ]
    },
    {
     "name": "stderr",
     "output_type": "stream",
     "text": [
      "Using cache found in /root/.cache/torch/hub/NVIDIA_DeepLearningExamples_torchhub\n"
     ]
    },
    {
     "name": "stdout",
     "output_type": "stream",
     "text": [
      "Loaded Model Stored\n"
     ]
    }
   ],
   "source": [
    "run_path = \"runs/handle_white_neg/datacorrected_efficientnet_b4_aug++\"\n",
    "chk_path = f\"{run_path}/checkpoint.pth.tar\"\n",
    "state_dict  =torch.load(chk_path)[\"state_dict\"]\n",
    "model =load_model(state_dict).to(CFG.device)"
   ]
  },
  {
   "cell_type": "code",
   "execution_count": 19,
   "id": "92f0a046",
   "metadata": {},
   "outputs": [],
   "source": [
    "\n",
    "criterion = nn.BCEWithLogitsLoss()"
   ]
  },
  {
   "cell_type": "code",
   "execution_count": 20,
   "id": "d1ac4542",
   "metadata": {},
   "outputs": [
    {
     "name": "stderr",
     "output_type": "stream",
     "text": [
      "Valid : 100%|████████████████████████████████████████████████████████████████████████████████████████████████| 29/29 [00:05<00:00,  5.05it/s, gpu_memory=2.24 GB, valid_loss=0.2029]\n"
     ]
    }
   ],
   "source": [
    "val_loss, val_scores,val_data = valid_one_epoch(model, val_loader, criterion, device=CFG.device, epoch=0,infer=True)"
   ]
  },
  {
   "cell_type": "code",
   "execution_count": 21,
   "id": "fbb20abf",
   "metadata": {},
   "outputs": [
    {
     "data": {
      "text/plain": [
       "1828"
      ]
     },
     "execution_count": 21,
     "metadata": {},
     "output_type": "execute_result"
    }
   ],
   "source": [
    "len(val_data[\"preds\"])"
   ]
  },
  {
   "cell_type": "code",
   "execution_count": 22,
   "id": "c6766d21",
   "metadata": {},
   "outputs": [
    {
     "data": {
      "text/html": [
       "<div>\n",
       "<style scoped>\n",
       "    .dataframe tbody tr th:only-of-type {\n",
       "        vertical-align: middle;\n",
       "    }\n",
       "\n",
       "    .dataframe tbody tr th {\n",
       "        vertical-align: top;\n",
       "    }\n",
       "\n",
       "    .dataframe thead th {\n",
       "        text-align: right;\n",
       "    }\n",
       "</style>\n",
       "<table border=\"1\" class=\"dataframe\">\n",
       "  <thead>\n",
       "    <tr style=\"text-align: right;\">\n",
       "      <th></th>\n",
       "      <th>image_id_worm</th>\n",
       "      <th>bw</th>\n",
       "      <th>fold</th>\n",
       "      <th>preds</th>\n",
       "    </tr>\n",
       "  </thead>\n",
       "  <tbody>\n",
       "    <tr>\n",
       "      <th>0</th>\n",
       "      <td>id_0005ef295aafe6acc63587db.jpg</td>\n",
       "      <td>1</td>\n",
       "      <td>0.0</td>\n",
       "      <td>1.0</td>\n",
       "    </tr>\n",
       "    <tr>\n",
       "      <th>1</th>\n",
       "      <td>id_00750938fb12fad4fd8fad24.jpg</td>\n",
       "      <td>1</td>\n",
       "      <td>0.0</td>\n",
       "      <td>1.0</td>\n",
       "    </tr>\n",
       "    <tr>\n",
       "      <th>2</th>\n",
       "      <td>id_009d7e2ef3c4f47b14c6c4c3.jpg</td>\n",
       "      <td>0</td>\n",
       "      <td>0.0</td>\n",
       "      <td>0.0</td>\n",
       "    </tr>\n",
       "    <tr>\n",
       "      <th>3</th>\n",
       "      <td>id_00e5892f475750f80a9f9ce5.jpg</td>\n",
       "      <td>0</td>\n",
       "      <td>0.0</td>\n",
       "      <td>0.0</td>\n",
       "    </tr>\n",
       "    <tr>\n",
       "      <th>4</th>\n",
       "      <td>id_0128f4371f1b1a678062cff6.jpg</td>\n",
       "      <td>1</td>\n",
       "      <td>0.0</td>\n",
       "      <td>1.0</td>\n",
       "    </tr>\n",
       "    <tr>\n",
       "      <th>...</th>\n",
       "      <td>...</td>\n",
       "      <td>...</td>\n",
       "      <td>...</td>\n",
       "      <td>...</td>\n",
       "    </tr>\n",
       "    <tr>\n",
       "      <th>1823</th>\n",
       "      <td>id_ff239c464c474c0936fd5d9c.jpg</td>\n",
       "      <td>0</td>\n",
       "      <td>0.0</td>\n",
       "      <td>0.0</td>\n",
       "    </tr>\n",
       "    <tr>\n",
       "      <th>1824</th>\n",
       "      <td>id_ff52ef03790a72f1ca7c6837.jpg</td>\n",
       "      <td>1</td>\n",
       "      <td>0.0</td>\n",
       "      <td>1.0</td>\n",
       "    </tr>\n",
       "    <tr>\n",
       "      <th>1825</th>\n",
       "      <td>id_ff6c6dc955223c93456ae3b9.jpg</td>\n",
       "      <td>1</td>\n",
       "      <td>0.0</td>\n",
       "      <td>1.0</td>\n",
       "    </tr>\n",
       "    <tr>\n",
       "      <th>1826</th>\n",
       "      <td>id_ffc5b54765267f4aa7f015ca.jpg</td>\n",
       "      <td>1</td>\n",
       "      <td>0.0</td>\n",
       "      <td>1.0</td>\n",
       "    </tr>\n",
       "    <tr>\n",
       "      <th>1827</th>\n",
       "      <td>id_fffdca893564aa86ff5be4cc.jpg</td>\n",
       "      <td>1</td>\n",
       "      <td>0.0</td>\n",
       "      <td>1.0</td>\n",
       "    </tr>\n",
       "  </tbody>\n",
       "</table>\n",
       "<p>1828 rows × 4 columns</p>\n",
       "</div>"
      ],
      "text/plain": [
       "                        image_id_worm  bw  fold  preds\n",
       "0     id_0005ef295aafe6acc63587db.jpg   1   0.0    1.0\n",
       "1     id_00750938fb12fad4fd8fad24.jpg   1   0.0    1.0\n",
       "2     id_009d7e2ef3c4f47b14c6c4c3.jpg   0   0.0    0.0\n",
       "3     id_00e5892f475750f80a9f9ce5.jpg   0   0.0    0.0\n",
       "4     id_0128f4371f1b1a678062cff6.jpg   1   0.0    1.0\n",
       "...                               ...  ..   ...    ...\n",
       "1823  id_ff239c464c474c0936fd5d9c.jpg   0   0.0    0.0\n",
       "1824  id_ff52ef03790a72f1ca7c6837.jpg   1   0.0    1.0\n",
       "1825  id_ff6c6dc955223c93456ae3b9.jpg   1   0.0    1.0\n",
       "1826  id_ffc5b54765267f4aa7f015ca.jpg   1   0.0    1.0\n",
       "1827  id_fffdca893564aa86ff5be4cc.jpg   1   0.0    1.0\n",
       "\n",
       "[1828 rows x 4 columns]"
      ]
     },
     "execution_count": 22,
     "metadata": {},
     "output_type": "execute_result"
    }
   ],
   "source": [
    "val_df[\"preds\"] = val_data[\"preds\"].cpu().detach().numpy()\n",
    "val_df"
   ]
  },
  {
   "cell_type": "code",
   "execution_count": 23,
   "id": "12a5ee3e",
   "metadata": {
    "scrolled": true
   },
   "outputs": [
    {
     "data": {
      "text/plain": [
       "(0.937636761487965, 0.9552941176470588)"
      ]
     },
     "execution_count": 23,
     "metadata": {},
     "output_type": "execute_result"
    }
   ],
   "source": [
    "val_scores"
   ]
  },
  {
   "cell_type": "code",
   "execution_count": 24,
   "id": "e00ea982",
   "metadata": {},
   "outputs": [
    {
     "data": {
      "text/plain": [
       "(0.937636761487965, 0.9552941176470588)"
      ]
     },
     "execution_count": 24,
     "metadata": {},
     "output_type": "execute_result"
    }
   ],
   "source": [
    "preds =torch.tensor(list(val_df[\"preds\"])).to(CFG.device)\n",
    "labels = torch.tensor(list(val_df[\"bw\"])).to(CFG.device)\n",
    "get_metrics(preds, labels)"
   ]
  },
  {
   "cell_type": "code",
   "execution_count": 14,
   "id": "9c404547",
   "metadata": {},
   "outputs": [
    {
     "data": {
      "text/html": [
       "<div>\n",
       "<style scoped>\n",
       "    .dataframe tbody tr th:only-of-type {\n",
       "        vertical-align: middle;\n",
       "    }\n",
       "\n",
       "    .dataframe tbody tr th {\n",
       "        vertical-align: top;\n",
       "    }\n",
       "\n",
       "    .dataframe thead th {\n",
       "        text-align: right;\n",
       "    }\n",
       "</style>\n",
       "<table border=\"1\" class=\"dataframe\">\n",
       "  <thead>\n",
       "    <tr style=\"text-align: right;\">\n",
       "      <th></th>\n",
       "      <th>image_id_worm</th>\n",
       "      <th>fold</th>\n",
       "      <th>bw</th>\n",
       "      <th>preds</th>\n",
       "    </tr>\n",
       "  </thead>\n",
       "  <tbody>\n",
       "    <tr>\n",
       "      <th>24</th>\n",
       "      <td>id_03e99321b0ef699d61d998a4.jpg</td>\n",
       "      <td>0.0</td>\n",
       "      <td>0</td>\n",
       "      <td>1.0</td>\n",
       "    </tr>\n",
       "    <tr>\n",
       "      <th>69</th>\n",
       "      <td>id_09bf93df720e7999d5f0f8b2.jpg</td>\n",
       "      <td>0.0</td>\n",
       "      <td>1</td>\n",
       "      <td>0.0</td>\n",
       "    </tr>\n",
       "    <tr>\n",
       "      <th>92</th>\n",
       "      <td>id_0cdcf54855d2007ceba043f6.jpg</td>\n",
       "      <td>0.0</td>\n",
       "      <td>0</td>\n",
       "      <td>1.0</td>\n",
       "    </tr>\n",
       "    <tr>\n",
       "      <th>106</th>\n",
       "      <td>id_0e1dcbe8607e2b9571cfbc0a.jpg</td>\n",
       "      <td>0.0</td>\n",
       "      <td>0</td>\n",
       "      <td>1.0</td>\n",
       "    </tr>\n",
       "    <tr>\n",
       "      <th>115</th>\n",
       "      <td>id_0f70fbfe9040967394c18441.jpg</td>\n",
       "      <td>0.0</td>\n",
       "      <td>1</td>\n",
       "      <td>0.0</td>\n",
       "    </tr>\n",
       "    <tr>\n",
       "      <th>...</th>\n",
       "      <td>...</td>\n",
       "      <td>...</td>\n",
       "      <td>...</td>\n",
       "      <td>...</td>\n",
       "    </tr>\n",
       "    <tr>\n",
       "      <th>1754</th>\n",
       "      <td>id_f4523309bc87b2340a5b4aa1.jpg</td>\n",
       "      <td>0.0</td>\n",
       "      <td>0</td>\n",
       "      <td>1.0</td>\n",
       "    </tr>\n",
       "    <tr>\n",
       "      <th>1766</th>\n",
       "      <td>id_f6561725e1d389a73e9e1cdf.jpg</td>\n",
       "      <td>0.0</td>\n",
       "      <td>0</td>\n",
       "      <td>1.0</td>\n",
       "    </tr>\n",
       "    <tr>\n",
       "      <th>1771</th>\n",
       "      <td>id_f76f903e93da713c8523f4aa.jpg</td>\n",
       "      <td>0.0</td>\n",
       "      <td>0</td>\n",
       "      <td>1.0</td>\n",
       "    </tr>\n",
       "    <tr>\n",
       "      <th>1774</th>\n",
       "      <td>id_f7aa8ec2a24ee73582f04287.jpg</td>\n",
       "      <td>0.0</td>\n",
       "      <td>0</td>\n",
       "      <td>1.0</td>\n",
       "    </tr>\n",
       "    <tr>\n",
       "      <th>1789</th>\n",
       "      <td>id_fa94d831b15ec6456836203c.jpg</td>\n",
       "      <td>0.0</td>\n",
       "      <td>0</td>\n",
       "      <td>1.0</td>\n",
       "    </tr>\n",
       "  </tbody>\n",
       "</table>\n",
       "<p>112 rows × 4 columns</p>\n",
       "</div>"
      ],
      "text/plain": [
       "                        image_id_worm  fold  bw  preds\n",
       "24    id_03e99321b0ef699d61d998a4.jpg   0.0   0    1.0\n",
       "69    id_09bf93df720e7999d5f0f8b2.jpg   0.0   1    0.0\n",
       "92    id_0cdcf54855d2007ceba043f6.jpg   0.0   0    1.0\n",
       "106   id_0e1dcbe8607e2b9571cfbc0a.jpg   0.0   0    1.0\n",
       "115   id_0f70fbfe9040967394c18441.jpg   0.0   1    0.0\n",
       "...                               ...   ...  ..    ...\n",
       "1754  id_f4523309bc87b2340a5b4aa1.jpg   0.0   0    1.0\n",
       "1766  id_f6561725e1d389a73e9e1cdf.jpg   0.0   0    1.0\n",
       "1771  id_f76f903e93da713c8523f4aa.jpg   0.0   0    1.0\n",
       "1774  id_f7aa8ec2a24ee73582f04287.jpg   0.0   0    1.0\n",
       "1789  id_fa94d831b15ec6456836203c.jpg   0.0   0    1.0\n",
       "\n",
       "[112 rows x 4 columns]"
      ]
     },
     "execution_count": 14,
     "metadata": {},
     "output_type": "execute_result"
    }
   ],
   "source": [
    "incorrect_preds =val_df[val_df[\"bw\"]!=val_df[\"preds\"]][[\"image_id_worm\",\"fold\",\"bw\",\"preds\"]]\n",
    "incorrect_preds"
   ]
  },
  {
   "cell_type": "code",
   "execution_count": 1,
   "id": "8afd1bb2",
   "metadata": {},
   "outputs": [
    {
     "ename": "NameError",
     "evalue": "name 'incorrect_preds' is not defined",
     "output_type": "error",
     "traceback": [
      "\u001b[0;31m---------------------------------------------------------------------------\u001b[0m",
      "\u001b[0;31mNameError\u001b[0m                                 Traceback (most recent call last)",
      "Cell \u001b[0;32mIn [1], line 1\u001b[0m\n\u001b[0;32m----> 1\u001b[0m \u001b[43mincorrect_preds\u001b[49m\u001b[38;5;241m.\u001b[39mto_csv(\u001b[38;5;124mf\u001b[39m\u001b[38;5;124m\"\u001b[39m\u001b[38;5;132;01m{\u001b[39;00mrun_path\u001b[38;5;132;01m}\u001b[39;00m\u001b[38;5;124m/incorrect_preds.csv\u001b[39m\u001b[38;5;124m\"\u001b[39m,index\u001b[38;5;241m=\u001b[39m\u001b[38;5;28;01mFalse\u001b[39;00m)\n",
      "\u001b[0;31mNameError\u001b[0m: name 'incorrect_preds' is not defined"
     ]
    }
   ],
   "source": [
    "incorrect_preds.to_csv(f\"{run_path}/incorrect_preds.csv\",index=False)"
   ]
  },
  {
   "cell_type": "code",
   "execution_count": null,
   "id": "81dd5604",
   "metadata": {},
   "outputs": [],
   "source": [
    "incorrect_preds[\"bw\"].value_counts()"
   ]
  },
  {
   "cell_type": "markdown",
   "id": "dce1cf71",
   "metadata": {},
   "source": [
    "## False Positives\n",
    "1. white color prediction\n",
    "2. id_0379805694b903d042422c26, other insects\n",
    "3. id_07c215ce23d27572c799c5d1, wrong label\n",
    "\n"
   ]
  },
  {
   "cell_type": "code",
   "execution_count": null,
   "id": "30526b69",
   "metadata": {},
   "outputs": [],
   "source": [
    "incorrect_preds[incorrect_preds[\"bw\"]==0]"
   ]
  },
  {
   "cell_type": "markdown",
   "id": "a77eca60",
   "metadata": {},
   "source": [
    "## False Negative\n",
    "1. id_fb8a3fbff03805ece9078afb, dust maybe?\n",
    "2. id_020985f3f6038e28674b15a9, blur, defocus\n",
    "3.  very small"
   ]
  },
  {
   "cell_type": "code",
   "execution_count": 27,
   "id": "78e11fce",
   "metadata": {},
   "outputs": [
    {
     "data": {
      "text/html": [
       "<div>\n",
       "<style scoped>\n",
       "    .dataframe tbody tr th:only-of-type {\n",
       "        vertical-align: middle;\n",
       "    }\n",
       "\n",
       "    .dataframe tbody tr th {\n",
       "        vertical-align: top;\n",
       "    }\n",
       "\n",
       "    .dataframe thead th {\n",
       "        text-align: right;\n",
       "    }\n",
       "</style>\n",
       "<table border=\"1\" class=\"dataframe\">\n",
       "  <thead>\n",
       "    <tr style=\"text-align: right;\">\n",
       "      <th></th>\n",
       "      <th>image_id_worm</th>\n",
       "      <th>fold</th>\n",
       "      <th>bw</th>\n",
       "      <th>preds</th>\n",
       "    </tr>\n",
       "  </thead>\n",
       "  <tbody>\n",
       "    <tr>\n",
       "      <th>34</th>\n",
       "      <td>id_050bfb62da75e63107eea8d6.jpg</td>\n",
       "      <td>0.0</td>\n",
       "      <td>1</td>\n",
       "      <td>0.0</td>\n",
       "    </tr>\n",
       "    <tr>\n",
       "      <th>51</th>\n",
       "      <td>id_0785d117e88bc09ec93784ec.jpg</td>\n",
       "      <td>0.0</td>\n",
       "      <td>1</td>\n",
       "      <td>0.0</td>\n",
       "    </tr>\n",
       "    <tr>\n",
       "      <th>69</th>\n",
       "      <td>id_09bf93df720e7999d5f0f8b2.jpg</td>\n",
       "      <td>0.0</td>\n",
       "      <td>1</td>\n",
       "      <td>0.0</td>\n",
       "    </tr>\n",
       "    <tr>\n",
       "      <th>95</th>\n",
       "      <td>id_0d2812b30af07a85453f0c9c.jpg</td>\n",
       "      <td>0.0</td>\n",
       "      <td>1</td>\n",
       "      <td>0.0</td>\n",
       "    </tr>\n",
       "    <tr>\n",
       "      <th>115</th>\n",
       "      <td>id_0f70fbfe9040967394c18441.jpg</td>\n",
       "      <td>0.0</td>\n",
       "      <td>1</td>\n",
       "      <td>0.0</td>\n",
       "    </tr>\n",
       "    <tr>\n",
       "      <th>127</th>\n",
       "      <td>id_110b5c51dddaeabcc8221d27.jpg</td>\n",
       "      <td>0.0</td>\n",
       "      <td>1</td>\n",
       "      <td>0.0</td>\n",
       "    </tr>\n",
       "    <tr>\n",
       "      <th>164</th>\n",
       "      <td>id_16c91018d0e9cb42f908bc82.jpg</td>\n",
       "      <td>0.0</td>\n",
       "      <td>1</td>\n",
       "      <td>0.0</td>\n",
       "    </tr>\n",
       "    <tr>\n",
       "      <th>184</th>\n",
       "      <td>id_18dff8f547553da5364e3234.jpg</td>\n",
       "      <td>0.0</td>\n",
       "      <td>1</td>\n",
       "      <td>0.0</td>\n",
       "    </tr>\n",
       "    <tr>\n",
       "      <th>192</th>\n",
       "      <td>id_1a80fc01155d090e1048b69b.jpg</td>\n",
       "      <td>0.0</td>\n",
       "      <td>1</td>\n",
       "      <td>0.0</td>\n",
       "    </tr>\n",
       "    <tr>\n",
       "      <th>262</th>\n",
       "      <td>id_23a822aa039563134496105e.jpg</td>\n",
       "      <td>0.0</td>\n",
       "      <td>1</td>\n",
       "      <td>0.0</td>\n",
       "    </tr>\n",
       "    <tr>\n",
       "      <th>325</th>\n",
       "      <td>id_2be0dad271aca3319105b696.jpg</td>\n",
       "      <td>0.0</td>\n",
       "      <td>1</td>\n",
       "      <td>0.0</td>\n",
       "    </tr>\n",
       "    <tr>\n",
       "      <th>354</th>\n",
       "      <td>id_2ff6c412bfa93fb628d4bcf2.jpg</td>\n",
       "      <td>0.0</td>\n",
       "      <td>1</td>\n",
       "      <td>0.0</td>\n",
       "    </tr>\n",
       "    <tr>\n",
       "      <th>385</th>\n",
       "      <td>id_3361fb676237669217d5b0de.jpg</td>\n",
       "      <td>0.0</td>\n",
       "      <td>1</td>\n",
       "      <td>0.0</td>\n",
       "    </tr>\n",
       "    <tr>\n",
       "      <th>416</th>\n",
       "      <td>id_36c14ed6bac7e07aa2252fd4.jpg</td>\n",
       "      <td>0.0</td>\n",
       "      <td>1</td>\n",
       "      <td>0.0</td>\n",
       "    </tr>\n",
       "    <tr>\n",
       "      <th>445</th>\n",
       "      <td>id_3aa58ece5abe5e95d42029db.jpg</td>\n",
       "      <td>0.0</td>\n",
       "      <td>1</td>\n",
       "      <td>0.0</td>\n",
       "    </tr>\n",
       "    <tr>\n",
       "      <th>483</th>\n",
       "      <td>id_409826b70827915e26f8d5b9.jpg</td>\n",
       "      <td>0.0</td>\n",
       "      <td>1</td>\n",
       "      <td>0.0</td>\n",
       "    </tr>\n",
       "    <tr>\n",
       "      <th>498</th>\n",
       "      <td>id_4320912ad1e3030715d06719.jpg</td>\n",
       "      <td>0.0</td>\n",
       "      <td>1</td>\n",
       "      <td>0.0</td>\n",
       "    </tr>\n",
       "    <tr>\n",
       "      <th>510</th>\n",
       "      <td>id_44c7c0677f19c80612b10f57.jpg</td>\n",
       "      <td>0.0</td>\n",
       "      <td>1</td>\n",
       "      <td>0.0</td>\n",
       "    </tr>\n",
       "    <tr>\n",
       "      <th>566</th>\n",
       "      <td>id_4cfb350f3090879f80bb0969.jpg</td>\n",
       "      <td>0.0</td>\n",
       "      <td>1</td>\n",
       "      <td>0.0</td>\n",
       "    </tr>\n",
       "    <tr>\n",
       "      <th>653</th>\n",
       "      <td>id_58e3d30f32bcb6f97ba86ca7.jpg</td>\n",
       "      <td>0.0</td>\n",
       "      <td>1</td>\n",
       "      <td>0.0</td>\n",
       "    </tr>\n",
       "    <tr>\n",
       "      <th>665</th>\n",
       "      <td>id_5a54e134f256a13f26050732.jpg</td>\n",
       "      <td>0.0</td>\n",
       "      <td>1</td>\n",
       "      <td>0.0</td>\n",
       "    </tr>\n",
       "    <tr>\n",
       "      <th>668</th>\n",
       "      <td>id_5a68ff6ecf13fc3e3549fe17.jpg</td>\n",
       "      <td>0.0</td>\n",
       "      <td>1</td>\n",
       "      <td>0.0</td>\n",
       "    </tr>\n",
       "    <tr>\n",
       "      <th>675</th>\n",
       "      <td>id_5b8fe72ef271bdab73600300.jpg</td>\n",
       "      <td>0.0</td>\n",
       "      <td>1</td>\n",
       "      <td>0.0</td>\n",
       "    </tr>\n",
       "    <tr>\n",
       "      <th>681</th>\n",
       "      <td>id_5c19c5075a0fef30f97062ed.jpg</td>\n",
       "      <td>0.0</td>\n",
       "      <td>1</td>\n",
       "      <td>0.0</td>\n",
       "    </tr>\n",
       "    <tr>\n",
       "      <th>824</th>\n",
       "      <td>id_71f812c3c6af22c86159895b.jpg</td>\n",
       "      <td>0.0</td>\n",
       "      <td>1</td>\n",
       "      <td>0.0</td>\n",
       "    </tr>\n",
       "    <tr>\n",
       "      <th>840</th>\n",
       "      <td>id_75e6f099f328c4ab7c590c43.jpg</td>\n",
       "      <td>0.0</td>\n",
       "      <td>1</td>\n",
       "      <td>0.0</td>\n",
       "    </tr>\n",
       "    <tr>\n",
       "      <th>893</th>\n",
       "      <td>id_7e93ea074f05338a7ad83344.jpg</td>\n",
       "      <td>0.0</td>\n",
       "      <td>1</td>\n",
       "      <td>0.0</td>\n",
       "    </tr>\n",
       "    <tr>\n",
       "      <th>915</th>\n",
       "      <td>id_815807fa9ca5f2a74baf1f87.jpg</td>\n",
       "      <td>0.0</td>\n",
       "      <td>1</td>\n",
       "      <td>0.0</td>\n",
       "    </tr>\n",
       "    <tr>\n",
       "      <th>994</th>\n",
       "      <td>id_8be3b449d1932de86e5f5aaa.jpg</td>\n",
       "      <td>0.0</td>\n",
       "      <td>1</td>\n",
       "      <td>0.0</td>\n",
       "    </tr>\n",
       "    <tr>\n",
       "      <th>1013</th>\n",
       "      <td>id_8e72c501f73bd2ae30589c98.jpg</td>\n",
       "      <td>0.0</td>\n",
       "      <td>1</td>\n",
       "      <td>0.0</td>\n",
       "    </tr>\n",
       "    <tr>\n",
       "      <th>1062</th>\n",
       "      <td>id_945fdd40f0bc78afa10bdc15.jpg</td>\n",
       "      <td>0.0</td>\n",
       "      <td>1</td>\n",
       "      <td>0.0</td>\n",
       "    </tr>\n",
       "    <tr>\n",
       "      <th>1102</th>\n",
       "      <td>id_99b1f9120cedaec9af174fa0.jpg</td>\n",
       "      <td>0.0</td>\n",
       "      <td>1</td>\n",
       "      <td>0.0</td>\n",
       "    </tr>\n",
       "    <tr>\n",
       "      <th>1135</th>\n",
       "      <td>id_9d98e4934589c8b4fe5403f0.jpg</td>\n",
       "      <td>0.0</td>\n",
       "      <td>1</td>\n",
       "      <td>0.0</td>\n",
       "    </tr>\n",
       "    <tr>\n",
       "      <th>1155</th>\n",
       "      <td>id_9fc03f59bc9ef395686dde9c.jpg</td>\n",
       "      <td>0.0</td>\n",
       "      <td>1</td>\n",
       "      <td>0.0</td>\n",
       "    </tr>\n",
       "    <tr>\n",
       "      <th>1171</th>\n",
       "      <td>id_a22df8344b982442b1aefa57.jpg</td>\n",
       "      <td>0.0</td>\n",
       "      <td>1</td>\n",
       "      <td>0.0</td>\n",
       "    </tr>\n",
       "    <tr>\n",
       "      <th>1200</th>\n",
       "      <td>id_a66a3ac36eff93a94ce0c1e8.jpg</td>\n",
       "      <td>0.0</td>\n",
       "      <td>1</td>\n",
       "      <td>0.0</td>\n",
       "    </tr>\n",
       "    <tr>\n",
       "      <th>1229</th>\n",
       "      <td>id_aad79e448c99c02fbf318507.jpg</td>\n",
       "      <td>0.0</td>\n",
       "      <td>1</td>\n",
       "      <td>0.0</td>\n",
       "    </tr>\n",
       "    <tr>\n",
       "      <th>1233</th>\n",
       "      <td>id_abef739251053fd3670ace45.jpg</td>\n",
       "      <td>0.0</td>\n",
       "      <td>1</td>\n",
       "      <td>0.0</td>\n",
       "    </tr>\n",
       "    <tr>\n",
       "      <th>1241</th>\n",
       "      <td>id_ad08279f8af386a2b23df699.jpg</td>\n",
       "      <td>0.0</td>\n",
       "      <td>1</td>\n",
       "      <td>0.0</td>\n",
       "    </tr>\n",
       "    <tr>\n",
       "      <th>1256</th>\n",
       "      <td>id_aea1edefae0ee9464aea6eda.jpg</td>\n",
       "      <td>0.0</td>\n",
       "      <td>1</td>\n",
       "      <td>0.0</td>\n",
       "    </tr>\n",
       "    <tr>\n",
       "      <th>1260</th>\n",
       "      <td>id_af7e2cba814208b31f393bd0.jpg</td>\n",
       "      <td>0.0</td>\n",
       "      <td>1</td>\n",
       "      <td>0.0</td>\n",
       "    </tr>\n",
       "    <tr>\n",
       "      <th>1278</th>\n",
       "      <td>id_b1879c6681cec66ec4dea6ea.jpg</td>\n",
       "      <td>0.0</td>\n",
       "      <td>1</td>\n",
       "      <td>0.0</td>\n",
       "    </tr>\n",
       "    <tr>\n",
       "      <th>1293</th>\n",
       "      <td>id_b3878206b26086beb4c19deb.jpg</td>\n",
       "      <td>0.0</td>\n",
       "      <td>1</td>\n",
       "      <td>0.0</td>\n",
       "    </tr>\n",
       "    <tr>\n",
       "      <th>1324</th>\n",
       "      <td>id_b6817c29416c570ab47ae34c.jpg</td>\n",
       "      <td>0.0</td>\n",
       "      <td>1</td>\n",
       "      <td>0.0</td>\n",
       "    </tr>\n",
       "    <tr>\n",
       "      <th>1423</th>\n",
       "      <td>id_c2b1e7735db9f81b3b04563e.jpg</td>\n",
       "      <td>0.0</td>\n",
       "      <td>1</td>\n",
       "      <td>0.0</td>\n",
       "    </tr>\n",
       "    <tr>\n",
       "      <th>1432</th>\n",
       "      <td>id_c3c95537ae39984ec2552b35.jpg</td>\n",
       "      <td>0.0</td>\n",
       "      <td>1</td>\n",
       "      <td>0.0</td>\n",
       "    </tr>\n",
       "    <tr>\n",
       "      <th>1451</th>\n",
       "      <td>id_c6af05f4d28a2f31f2735e7d.jpg</td>\n",
       "      <td>0.0</td>\n",
       "      <td>1</td>\n",
       "      <td>0.0</td>\n",
       "    </tr>\n",
       "    <tr>\n",
       "      <th>1489</th>\n",
       "      <td>id_ccbd3e248b335390f31f207d.jpg</td>\n",
       "      <td>0.0</td>\n",
       "      <td>1</td>\n",
       "      <td>0.0</td>\n",
       "    </tr>\n",
       "    <tr>\n",
       "      <th>1498</th>\n",
       "      <td>id_ce4e9ba13b03718f5bd0c104.jpg</td>\n",
       "      <td>0.0</td>\n",
       "      <td>1</td>\n",
       "      <td>0.0</td>\n",
       "    </tr>\n",
       "    <tr>\n",
       "      <th>1505</th>\n",
       "      <td>id_cf7eec33df92941651aa8ab0.jpg</td>\n",
       "      <td>0.0</td>\n",
       "      <td>1</td>\n",
       "      <td>0.0</td>\n",
       "    </tr>\n",
       "    <tr>\n",
       "      <th>1675</th>\n",
       "      <td>id_e8e13e7da9f939f1a0a8841a.jpg</td>\n",
       "      <td>0.0</td>\n",
       "      <td>1</td>\n",
       "      <td>0.0</td>\n",
       "    </tr>\n",
       "    <tr>\n",
       "      <th>1701</th>\n",
       "      <td>id_ed2e340b7b87a6cda7d02061.jpg</td>\n",
       "      <td>0.0</td>\n",
       "      <td>1</td>\n",
       "      <td>0.0</td>\n",
       "    </tr>\n",
       "    <tr>\n",
       "      <th>1721</th>\n",
       "      <td>id_efa2d99456fa83bfcf0a6d2b.jpg</td>\n",
       "      <td>0.0</td>\n",
       "      <td>1</td>\n",
       "      <td>0.0</td>\n",
       "    </tr>\n",
       "    <tr>\n",
       "      <th>1728</th>\n",
       "      <td>id_f0b9fe1e169e830a704f37a6.jpg</td>\n",
       "      <td>0.0</td>\n",
       "      <td>1</td>\n",
       "      <td>0.0</td>\n",
       "    </tr>\n",
       "    <tr>\n",
       "      <th>1740</th>\n",
       "      <td>id_f1e00174aa25c290aec891c2.jpg</td>\n",
       "      <td>0.0</td>\n",
       "      <td>1</td>\n",
       "      <td>0.0</td>\n",
       "    </tr>\n",
       "  </tbody>\n",
       "</table>\n",
       "</div>"
      ],
      "text/plain": [
       "                        image_id_worm  fold  bw  preds\n",
       "34    id_050bfb62da75e63107eea8d6.jpg   0.0   1    0.0\n",
       "51    id_0785d117e88bc09ec93784ec.jpg   0.0   1    0.0\n",
       "69    id_09bf93df720e7999d5f0f8b2.jpg   0.0   1    0.0\n",
       "95    id_0d2812b30af07a85453f0c9c.jpg   0.0   1    0.0\n",
       "115   id_0f70fbfe9040967394c18441.jpg   0.0   1    0.0\n",
       "127   id_110b5c51dddaeabcc8221d27.jpg   0.0   1    0.0\n",
       "164   id_16c91018d0e9cb42f908bc82.jpg   0.0   1    0.0\n",
       "184   id_18dff8f547553da5364e3234.jpg   0.0   1    0.0\n",
       "192   id_1a80fc01155d090e1048b69b.jpg   0.0   1    0.0\n",
       "262   id_23a822aa039563134496105e.jpg   0.0   1    0.0\n",
       "325   id_2be0dad271aca3319105b696.jpg   0.0   1    0.0\n",
       "354   id_2ff6c412bfa93fb628d4bcf2.jpg   0.0   1    0.0\n",
       "385   id_3361fb676237669217d5b0de.jpg   0.0   1    0.0\n",
       "416   id_36c14ed6bac7e07aa2252fd4.jpg   0.0   1    0.0\n",
       "445   id_3aa58ece5abe5e95d42029db.jpg   0.0   1    0.0\n",
       "483   id_409826b70827915e26f8d5b9.jpg   0.0   1    0.0\n",
       "498   id_4320912ad1e3030715d06719.jpg   0.0   1    0.0\n",
       "510   id_44c7c0677f19c80612b10f57.jpg   0.0   1    0.0\n",
       "566   id_4cfb350f3090879f80bb0969.jpg   0.0   1    0.0\n",
       "653   id_58e3d30f32bcb6f97ba86ca7.jpg   0.0   1    0.0\n",
       "665   id_5a54e134f256a13f26050732.jpg   0.0   1    0.0\n",
       "668   id_5a68ff6ecf13fc3e3549fe17.jpg   0.0   1    0.0\n",
       "675   id_5b8fe72ef271bdab73600300.jpg   0.0   1    0.0\n",
       "681   id_5c19c5075a0fef30f97062ed.jpg   0.0   1    0.0\n",
       "824   id_71f812c3c6af22c86159895b.jpg   0.0   1    0.0\n",
       "840   id_75e6f099f328c4ab7c590c43.jpg   0.0   1    0.0\n",
       "893   id_7e93ea074f05338a7ad83344.jpg   0.0   1    0.0\n",
       "915   id_815807fa9ca5f2a74baf1f87.jpg   0.0   1    0.0\n",
       "994   id_8be3b449d1932de86e5f5aaa.jpg   0.0   1    0.0\n",
       "1013  id_8e72c501f73bd2ae30589c98.jpg   0.0   1    0.0\n",
       "1062  id_945fdd40f0bc78afa10bdc15.jpg   0.0   1    0.0\n",
       "1102  id_99b1f9120cedaec9af174fa0.jpg   0.0   1    0.0\n",
       "1135  id_9d98e4934589c8b4fe5403f0.jpg   0.0   1    0.0\n",
       "1155  id_9fc03f59bc9ef395686dde9c.jpg   0.0   1    0.0\n",
       "1171  id_a22df8344b982442b1aefa57.jpg   0.0   1    0.0\n",
       "1200  id_a66a3ac36eff93a94ce0c1e8.jpg   0.0   1    0.0\n",
       "1229  id_aad79e448c99c02fbf318507.jpg   0.0   1    0.0\n",
       "1233  id_abef739251053fd3670ace45.jpg   0.0   1    0.0\n",
       "1241  id_ad08279f8af386a2b23df699.jpg   0.0   1    0.0\n",
       "1256  id_aea1edefae0ee9464aea6eda.jpg   0.0   1    0.0\n",
       "1260  id_af7e2cba814208b31f393bd0.jpg   0.0   1    0.0\n",
       "1278  id_b1879c6681cec66ec4dea6ea.jpg   0.0   1    0.0\n",
       "1293  id_b3878206b26086beb4c19deb.jpg   0.0   1    0.0\n",
       "1324  id_b6817c29416c570ab47ae34c.jpg   0.0   1    0.0\n",
       "1423  id_c2b1e7735db9f81b3b04563e.jpg   0.0   1    0.0\n",
       "1432  id_c3c95537ae39984ec2552b35.jpg   0.0   1    0.0\n",
       "1451  id_c6af05f4d28a2f31f2735e7d.jpg   0.0   1    0.0\n",
       "1489  id_ccbd3e248b335390f31f207d.jpg   0.0   1    0.0\n",
       "1498  id_ce4e9ba13b03718f5bd0c104.jpg   0.0   1    0.0\n",
       "1505  id_cf7eec33df92941651aa8ab0.jpg   0.0   1    0.0\n",
       "1675  id_e8e13e7da9f939f1a0a8841a.jpg   0.0   1    0.0\n",
       "1701  id_ed2e340b7b87a6cda7d02061.jpg   0.0   1    0.0\n",
       "1721  id_efa2d99456fa83bfcf0a6d2b.jpg   0.0   1    0.0\n",
       "1728  id_f0b9fe1e169e830a704f37a6.jpg   0.0   1    0.0\n",
       "1740  id_f1e00174aa25c290aec891c2.jpg   0.0   1    0.0"
      ]
     },
     "execution_count": 27,
     "metadata": {},
     "output_type": "execute_result"
    }
   ],
   "source": [
    "incorrect_preds[incorrect_preds[\"bw\"]==1]"
   ]
  },
  {
   "cell_type": "code",
   "execution_count": 40,
   "id": "59975d79",
   "metadata": {},
   "outputs": [
    {
     "data": {
      "text/plain": [
       "1    6179\n",
       "0    2958\n",
       "Name: bw, dtype: int64"
      ]
     },
     "execution_count": 40,
     "metadata": {},
     "output_type": "execute_result"
    }
   ],
   "source": [
    "train_filter.bw.value_counts()"
   ]
  },
  {
   "cell_type": "code",
   "execution_count": 44,
   "id": "5d23c6b1",
   "metadata": {},
   "outputs": [
    {
     "data": {
      "text/plain": [
       "torch.Size([3, 1])"
      ]
     },
     "execution_count": 44,
     "metadata": {},
     "output_type": "execute_result"
    }
   ],
   "source": [
    "torch.tensor([1,2,3]).unsqueeze(1).shape"
   ]
  },
  {
   "cell_type": "code",
   "execution_count": 45,
   "id": "6dc4a626",
   "metadata": {},
   "outputs": [],
   "source": [
    "import torch.nn as nn"
   ]
  },
  {
   "cell_type": "code",
   "execution_count": 60,
   "id": "07e21418",
   "metadata": {},
   "outputs": [
    {
     "data": {
      "text/plain": [
       "tensor([0.7311, 0.8808])"
      ]
     },
     "execution_count": 60,
     "metadata": {},
     "output_type": "execute_result"
    }
   ],
   "source": []
  },
  {
   "cell_type": "code",
   "execution_count": 99,
   "id": "70c145b8",
   "metadata": {},
   "outputs": [
    {
     "data": {
      "text/plain": [
       "tensor([[12.0000],\n",
       "        [ 3.0000],\n",
       "        [ 0.0000],\n",
       "        [ 0.0000],\n",
       "        [ 0.5000],\n",
       "        [ 1.0000]])"
      ]
     },
     "execution_count": 99,
     "metadata": {},
     "output_type": "execute_result"
    }
   ],
   "source": [
    "y_pred = torch.tensor([12,3,0,0,0.5,1]).unsqueeze(1)\n",
    "# y_pred = nn.Sigmoid()(y_pred)\n",
    "y_pred"
   ]
  },
  {
   "cell_type": "code",
   "execution_count": 100,
   "id": "b9ad341c",
   "metadata": {},
   "outputs": [
    {
     "data": {
      "text/plain": [
       "tensor([[1],\n",
       "        [0],\n",
       "        [0],\n",
       "        [1],\n",
       "        [0],\n",
       "        [1]])"
      ]
     },
     "execution_count": 100,
     "metadata": {},
     "output_type": "execute_result"
    }
   ],
   "source": [
    "labels =  torch.tensor([1,0,0,1,0,1]).unsqueeze(1)\n",
    "labels"
   ]
  },
  {
   "cell_type": "code",
   "execution_count": 101,
   "id": "94b52096",
   "metadata": {},
   "outputs": [
    {
     "data": {
      "text/plain": [
       "tensor(0.9537)"
      ]
     },
     "execution_count": 101,
     "metadata": {},
     "output_type": "execute_result"
    }
   ],
   "source": [
    "nn.BCEWithLogitsLoss()(y_pred,labels.float())"
   ]
  },
  {
   "cell_type": "code",
   "execution_count": 79,
   "id": "2939e04e",
   "metadata": {},
   "outputs": [],
   "source": [
    "# y_pred = torch.argmax(y_pred, dim=1)"
   ]
  },
  {
   "cell_type": "code",
   "execution_count": 80,
   "id": "7b0f8d1d",
   "metadata": {},
   "outputs": [
    {
     "data": {
      "text/plain": [
       "tensor([[1.0000],\n",
       "        [0.9526],\n",
       "        [1.0000],\n",
       "        [1.0000],\n",
       "        [0.6225],\n",
       "        [0.7311]])"
      ]
     },
     "execution_count": 80,
     "metadata": {},
     "output_type": "execute_result"
    }
   ],
   "source": [
    "nn.BCEWithLogitsLoss()"
   ]
  },
  {
   "cell_type": "code",
   "execution_count": 109,
   "id": "abccf2e2",
   "metadata": {},
   "outputs": [
    {
     "data": {
      "text/plain": [
       "tensor(1.7014)"
      ]
     },
     "execution_count": 109,
     "metadata": {},
     "output_type": "execute_result"
    }
   ],
   "source": [
    "target = torch.zeros([10, 1], dtype=torch.float32)  # 64 classes, batch size = 10\n",
    "output = torch.full([10, 1], 1.5)  # A prediction (logit)\n",
    "pos_weight = torch.ones([1])  # All weights are equal to 1\n",
    "criterion = torch.nn.BCEWithLogitsLoss(pos_weight=pos_weight)\n",
    "criterion(output, target)  # -log(sigmoid(1.5))"
   ]
  },
  {
   "cell_type": "code",
   "execution_count": 112,
   "id": "9d6a2515",
   "metadata": {},
   "outputs": [
    {
     "data": {
      "text/plain": [
       "tensor(1.7014)"
      ]
     },
     "execution_count": 112,
     "metadata": {},
     "output_type": "execute_result"
    }
   ],
   "source": [
    "criterion = torch.nn.BCELoss()\n",
    "criterion(nn.Sigmoid()(output), target)  # -log(sigmoid(1.5))"
   ]
  },
  {
   "cell_type": "code",
   "execution_count": 121,
   "id": "5355240c",
   "metadata": {},
   "outputs": [],
   "source": [
    "y_pred = nn.Sigmoid()(torch.tensor([0,2,3,4]))\n",
    "y_pred[y_pred>0.6]=1\n",
    "y_pred[y_pred<0.6]=0"
   ]
  },
  {
   "cell_type": "code",
   "execution_count": 122,
   "id": "cbd2f7a1",
   "metadata": {},
   "outputs": [
    {
     "data": {
      "text/plain": [
       "tensor([0., 1., 1., 1.])"
      ]
     },
     "execution_count": 122,
     "metadata": {},
     "output_type": "execute_result"
    }
   ],
   "source": [
    "y_pred"
   ]
  },
  {
   "cell_type": "code",
   "execution_count": null,
   "id": "41a32070",
   "metadata": {},
   "outputs": [],
   "source": []
  }
 ],
 "metadata": {
  "kernelspec": {
   "display_name": "Python 3 (ipykernel)",
   "language": "python",
   "name": "python3"
  },
  "language_info": {
   "codemirror_mode": {
    "name": "ipython",
    "version": 3
   },
   "file_extension": ".py",
   "mimetype": "text/x-python",
   "name": "python",
   "nbconvert_exporter": "python",
   "pygments_lexer": "ipython3",
   "version": "3.10.6"
  },
  "toc": {
   "base_numbering": 1,
   "nav_menu": {},
   "number_sections": true,
   "sideBar": true,
   "skip_h1_title": false,
   "title_cell": "Table of Contents",
   "title_sidebar": "Contents",
   "toc_cell": false,
   "toc_position": {},
   "toc_section_display": true,
   "toc_window_display": false
  }
 },
 "nbformat": 4,
 "nbformat_minor": 5
}
