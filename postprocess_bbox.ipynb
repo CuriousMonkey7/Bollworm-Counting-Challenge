{
 "cells": [
  {
   "cell_type": "code",
   "execution_count": 7,
   "id": "43d882c8",
   "metadata": {},
   "outputs": [
    {
     "name": "stdout",
     "output_type": "stream",
     "text": [
      "detection/yolov5/runs/detect/val_last_bw_pretrained_300/labels/id_00a90e6639b2983e1ef6244f.txt\r\n"
     ]
    }
   ],
   "source": [
    "!ls detection/yolov5/runs/detect/val_last_bw_pretrained_300/labels/id_00a90e6639b2983e1ef6244f.txt"
   ]
  },
  {
   "cell_type": "code",
   "execution_count": 11,
   "id": "7a7a2034",
   "metadata": {},
   "outputs": [],
   "source": [
    "import cv2"
   ]
  },
  {
   "cell_type": "code",
   "execution_count": 10,
   "id": "72e3acbf",
   "metadata": {},
   "outputs": [
    {
     "name": "stdout",
     "output_type": "stream",
     "text": [
      "['0 0.406593 0.248047 0.0952381 0.207031', '0 0.307326 0.485352 0.164835 0.119141', '0 0.431502 0.855957 0.142125 0.157227', '']\n"
     ]
    }
   ],
   "source": [
    "with open(\"detection/yolov5/runs/detect/val_last_bw_pretrained_300/labels/id_00a90e6639b2983e1ef6244f.txt\") as fp:\n",
    "    cv2.imread(f\"{}\")\n",
    "    print(fp.read().split(\"\\n\"))"
   ]
  },
  {
   "cell_type": "code",
   "execution_count": null,
   "id": "0694f34d",
   "metadata": {},
   "outputs": [],
   "source": []
  }
 ],
 "metadata": {
  "kernelspec": {
   "display_name": "Python 3 (ipykernel)",
   "language": "python",
   "name": "python3"
  },
  "language_info": {
   "codemirror_mode": {
    "name": "ipython",
    "version": 3
   },
   "file_extension": ".py",
   "mimetype": "text/x-python",
   "name": "python",
   "nbconvert_exporter": "python",
   "pygments_lexer": "ipython3",
   "version": "3.10.6"
  }
 },
 "nbformat": 4,
 "nbformat_minor": 5
}
