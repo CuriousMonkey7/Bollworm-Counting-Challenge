{
 "cells": [
  {
   "cell_type": "code",
   "execution_count": 92,
   "id": "bf19b8b3",
   "metadata": {},
   "outputs": [
    {
     "name": "stdout",
     "output_type": "stream",
     "text": [
      "SampleSubmission.csv  Train.csv  images.zip\r\n",
      "Test.csv\t      images\t images_bboxes.csv\r\n"
     ]
    }
   ],
   "source": [
    "!ls data/raw/\n"
   ]
  },
  {
   "cell_type": "code",
   "execution_count": 57,
   "id": "ad7895e3",
   "metadata": {},
   "outputs": [],
   "source": [
    "import pandas as pd\n",
    "import random"
   ]
  },
  {
   "cell_type": "code",
   "execution_count": null,
   "id": "6377308e",
   "metadata": {},
   "outputs": [],
   "source": [
    "filter_test = pd.read_csv(\"data/preds/test_filter_preds.csv\")\n",
    "neg_ids = filter_test[filter_test.preds==0].image_id_worm.tolist()"
   ]
  },
  {
   "cell_type": "code",
   "execution_count": 5,
   "id": "a7be0f05",
   "metadata": {},
   "outputs": [
    {
     "data": {
      "text/html": [
       "<div>\n",
       "<style scoped>\n",
       "    .dataframe tbody tr th:only-of-type {\n",
       "        vertical-align: middle;\n",
       "    }\n",
       "\n",
       "    .dataframe tbody tr th {\n",
       "        vertical-align: top;\n",
       "    }\n",
       "\n",
       "    .dataframe thead th {\n",
       "        text-align: right;\n",
       "    }\n",
       "</style>\n",
       "<table border=\"1\" class=\"dataframe\">\n",
       "  <thead>\n",
       "    <tr style=\"text-align: right;\">\n",
       "      <th></th>\n",
       "      <th>image_id_worm</th>\n",
       "      <th>worm_type</th>\n",
       "      <th>number_of_worms</th>\n",
       "    </tr>\n",
       "  </thead>\n",
       "  <tbody>\n",
       "    <tr>\n",
       "      <th>0</th>\n",
       "      <td>id_0002ea6f15c7fa6f4c221783.jpg</td>\n",
       "      <td>pbw</td>\n",
       "      <td>51</td>\n",
       "    </tr>\n",
       "    <tr>\n",
       "      <th>1</th>\n",
       "      <td>id_0005ef295aafe6acc63587db.jpg</td>\n",
       "      <td>pbw</td>\n",
       "      <td>8</td>\n",
       "    </tr>\n",
       "    <tr>\n",
       "      <th>2</th>\n",
       "      <td>id_00084298dd030a500033ff78.jpg</td>\n",
       "      <td>NaN</td>\n",
       "      <td>0</td>\n",
       "    </tr>\n",
       "    <tr>\n",
       "      <th>3</th>\n",
       "      <td>id_00093f2c76f6488737325859.jpg</td>\n",
       "      <td>pbw</td>\n",
       "      <td>12</td>\n",
       "    </tr>\n",
       "    <tr>\n",
       "      <th>4</th>\n",
       "      <td>id_000b2e6c437c643f25d4a6c3.jpg</td>\n",
       "      <td>pbw</td>\n",
       "      <td>87</td>\n",
       "    </tr>\n",
       "    <tr>\n",
       "      <th>...</th>\n",
       "      <td>...</td>\n",
       "      <td>...</td>\n",
       "      <td>...</td>\n",
       "    </tr>\n",
       "    <tr>\n",
       "      <th>9895</th>\n",
       "      <td>id_ffe6e193dd78b7258d864f6b.jpg</td>\n",
       "      <td>abw</td>\n",
       "      <td>5</td>\n",
       "    </tr>\n",
       "    <tr>\n",
       "      <th>9896</th>\n",
       "      <td>id_ffe98feb1e592e887b81c3f0.jpg</td>\n",
       "      <td>pbw</td>\n",
       "      <td>95</td>\n",
       "    </tr>\n",
       "    <tr>\n",
       "      <th>9897</th>\n",
       "      <td>id_ffef90ecf47baa38434f84fb.jpg</td>\n",
       "      <td>pbw</td>\n",
       "      <td>26</td>\n",
       "    </tr>\n",
       "    <tr>\n",
       "      <th>9898</th>\n",
       "      <td>id_fff06bb2e59bfce437ac9fc0.jpg</td>\n",
       "      <td>NaN</td>\n",
       "      <td>0</td>\n",
       "    </tr>\n",
       "    <tr>\n",
       "      <th>9899</th>\n",
       "      <td>id_fffdca893564aa86ff5be4cc.jpg</td>\n",
       "      <td>pbw</td>\n",
       "      <td>31</td>\n",
       "    </tr>\n",
       "  </tbody>\n",
       "</table>\n",
       "<p>9900 rows × 3 columns</p>\n",
       "</div>"
      ],
      "text/plain": [
       "                        image_id_worm worm_type  number_of_worms\n",
       "0     id_0002ea6f15c7fa6f4c221783.jpg       pbw               51\n",
       "1     id_0005ef295aafe6acc63587db.jpg       pbw                8\n",
       "2     id_00084298dd030a500033ff78.jpg       NaN                0\n",
       "3     id_00093f2c76f6488737325859.jpg       pbw               12\n",
       "4     id_000b2e6c437c643f25d4a6c3.jpg       pbw               87\n",
       "...                               ...       ...              ...\n",
       "9895  id_ffe6e193dd78b7258d864f6b.jpg       abw                5\n",
       "9896  id_ffe98feb1e592e887b81c3f0.jpg       pbw               95\n",
       "9897  id_ffef90ecf47baa38434f84fb.jpg       pbw               26\n",
       "9898  id_fff06bb2e59bfce437ac9fc0.jpg       NaN                0\n",
       "9899  id_fffdca893564aa86ff5be4cc.jpg       pbw               31\n",
       "\n",
       "[9900 rows x 3 columns]"
      ]
     },
     "execution_count": 5,
     "metadata": {},
     "output_type": "execute_result"
    }
   ],
   "source": [
    "train = pd.read_csv(\"data/raw/Train.csv\")\n",
    "train"
   ]
  },
  {
   "cell_type": "code",
   "execution_count": 43,
   "id": "9affbbe6",
   "metadata": {},
   "outputs": [
    {
     "name": "stderr",
     "output_type": "stream",
     "text": [
      "/tmp/ipykernel_9883/3917375634.py:1: UserWarning: Boolean Series key will be reindexed to match DataFrame index.\n",
      "  train [train[\"number_of_worms\"]!=0][train[\"worm_type\"]==\"pbw\"]\n"
     ]
    },
    {
     "data": {
      "text/html": [
       "<div>\n",
       "<style scoped>\n",
       "    .dataframe tbody tr th:only-of-type {\n",
       "        vertical-align: middle;\n",
       "    }\n",
       "\n",
       "    .dataframe tbody tr th {\n",
       "        vertical-align: top;\n",
       "    }\n",
       "\n",
       "    .dataframe thead th {\n",
       "        text-align: right;\n",
       "    }\n",
       "</style>\n",
       "<table border=\"1\" class=\"dataframe\">\n",
       "  <thead>\n",
       "    <tr style=\"text-align: right;\">\n",
       "      <th></th>\n",
       "      <th>image_id_worm</th>\n",
       "      <th>worm_type</th>\n",
       "      <th>number_of_worms</th>\n",
       "    </tr>\n",
       "  </thead>\n",
       "  <tbody>\n",
       "    <tr>\n",
       "      <th>0</th>\n",
       "      <td>id_0002ea6f15c7fa6f4c221783.jpg</td>\n",
       "      <td>pbw</td>\n",
       "      <td>51</td>\n",
       "    </tr>\n",
       "    <tr>\n",
       "      <th>1</th>\n",
       "      <td>id_0005ef295aafe6acc63587db.jpg</td>\n",
       "      <td>pbw</td>\n",
       "      <td>8</td>\n",
       "    </tr>\n",
       "    <tr>\n",
       "      <th>3</th>\n",
       "      <td>id_00093f2c76f6488737325859.jpg</td>\n",
       "      <td>pbw</td>\n",
       "      <td>12</td>\n",
       "    </tr>\n",
       "    <tr>\n",
       "      <th>4</th>\n",
       "      <td>id_000b2e6c437c643f25d4a6c3.jpg</td>\n",
       "      <td>pbw</td>\n",
       "      <td>87</td>\n",
       "    </tr>\n",
       "    <tr>\n",
       "      <th>10</th>\n",
       "      <td>id_002b8a0e15968eaf2e61f4c7.jpg</td>\n",
       "      <td>pbw</td>\n",
       "      <td>7</td>\n",
       "    </tr>\n",
       "    <tr>\n",
       "      <th>...</th>\n",
       "      <td>...</td>\n",
       "      <td>...</td>\n",
       "      <td>...</td>\n",
       "    </tr>\n",
       "    <tr>\n",
       "      <th>9891</th>\n",
       "      <td>id_ffd52048551e62041f1f5668.jpg</td>\n",
       "      <td>pbw</td>\n",
       "      <td>3</td>\n",
       "    </tr>\n",
       "    <tr>\n",
       "      <th>9892</th>\n",
       "      <td>id_ffd6fc216afef2eb42f8e985.jpg</td>\n",
       "      <td>pbw</td>\n",
       "      <td>80</td>\n",
       "    </tr>\n",
       "    <tr>\n",
       "      <th>9896</th>\n",
       "      <td>id_ffe98feb1e592e887b81c3f0.jpg</td>\n",
       "      <td>pbw</td>\n",
       "      <td>95</td>\n",
       "    </tr>\n",
       "    <tr>\n",
       "      <th>9897</th>\n",
       "      <td>id_ffef90ecf47baa38434f84fb.jpg</td>\n",
       "      <td>pbw</td>\n",
       "      <td>26</td>\n",
       "    </tr>\n",
       "    <tr>\n",
       "      <th>9899</th>\n",
       "      <td>id_fffdca893564aa86ff5be4cc.jpg</td>\n",
       "      <td>pbw</td>\n",
       "      <td>31</td>\n",
       "    </tr>\n",
       "  </tbody>\n",
       "</table>\n",
       "<p>4947 rows × 3 columns</p>\n",
       "</div>"
      ],
      "text/plain": [
       "                        image_id_worm worm_type  number_of_worms\n",
       "0     id_0002ea6f15c7fa6f4c221783.jpg       pbw               51\n",
       "1     id_0005ef295aafe6acc63587db.jpg       pbw                8\n",
       "3     id_00093f2c76f6488737325859.jpg       pbw               12\n",
       "4     id_000b2e6c437c643f25d4a6c3.jpg       pbw               87\n",
       "10    id_002b8a0e15968eaf2e61f4c7.jpg       pbw                7\n",
       "...                               ...       ...              ...\n",
       "9891  id_ffd52048551e62041f1f5668.jpg       pbw                3\n",
       "9892  id_ffd6fc216afef2eb42f8e985.jpg       pbw               80\n",
       "9896  id_ffe98feb1e592e887b81c3f0.jpg       pbw               95\n",
       "9897  id_ffef90ecf47baa38434f84fb.jpg       pbw               26\n",
       "9899  id_fffdca893564aa86ff5be4cc.jpg       pbw               31\n",
       "\n",
       "[4947 rows x 3 columns]"
      ]
     },
     "execution_count": 43,
     "metadata": {},
     "output_type": "execute_result"
    }
   ],
   "source": [
    "train [train[\"number_of_worms\"]!=0][train[\"worm_type\"]==\"pbw\"]"
   ]
  },
  {
   "cell_type": "code",
   "execution_count": 78,
   "id": "7c3a62b7",
   "metadata": {},
   "outputs": [
    {
     "name": "stderr",
     "output_type": "stream",
     "text": [
      "/tmp/ipykernel_9883/297450201.py:1: UserWarning: Boolean Series key will be reindexed to match DataFrame index.\n",
      "  pbw =train [train[\"number_of_worms\"]!=0][train[\"worm_type\"]==\"pbw\"].number_of_worms\n",
      "/tmp/ipykernel_9883/297450201.py:2: UserWarning: Boolean Series key will be reindexed to match DataFrame index.\n",
      "  abw =train [train[\"number_of_worms\"]!=0][train[\"worm_type\"]==\"abw\"].number_of_worms\n"
     ]
    }
   ],
   "source": [
    "pbw =train [train[\"number_of_worms\"]!=0][train[\"worm_type\"]==\"pbw\"].number_of_worms\n",
    "abw =train [train[\"number_of_worms\"]!=0][train[\"worm_type\"]==\"abw\"].number_of_worms\n",
    "\n"
   ]
  },
  {
   "cell_type": "code",
   "execution_count": 81,
   "id": "a07362d5",
   "metadata": {},
   "outputs": [],
   "source": [
    "pbw_value = int(pbw.mean()-pbw.std())\n",
    "abw_value = int(abw.mean()+abw.std())"
   ]
  },
  {
   "cell_type": "code",
   "execution_count": 84,
   "id": "ced816a7",
   "metadata": {},
   "outputs": [],
   "source": [
    "pbw_value=10"
   ]
  },
  {
   "cell_type": "code",
   "execution_count": 85,
   "id": "dae92b49",
   "metadata": {},
   "outputs": [
    {
     "data": {
      "text/plain": [
       "(10, 8)"
      ]
     },
     "execution_count": 85,
     "metadata": {},
     "output_type": "execute_result"
    }
   ],
   "source": [
    "pbw_value,abw_value"
   ]
  },
  {
   "cell_type": "code",
   "execution_count": 86,
   "id": "f5a925b4",
   "metadata": {},
   "outputs": [
    {
     "data": {
      "text/html": [
       "<div>\n",
       "<style scoped>\n",
       "    .dataframe tbody tr th:only-of-type {\n",
       "        vertical-align: middle;\n",
       "    }\n",
       "\n",
       "    .dataframe tbody tr th {\n",
       "        vertical-align: top;\n",
       "    }\n",
       "\n",
       "    .dataframe thead th {\n",
       "        text-align: right;\n",
       "    }\n",
       "</style>\n",
       "<table border=\"1\" class=\"dataframe\">\n",
       "  <thead>\n",
       "    <tr style=\"text-align: right;\">\n",
       "      <th></th>\n",
       "      <th>image_id_worm</th>\n",
       "      <th>number_of_worms</th>\n",
       "    </tr>\n",
       "  </thead>\n",
       "  <tbody>\n",
       "    <tr>\n",
       "      <th>0</th>\n",
       "      <td>id_00332970f80fa9a47a39516d_abw</td>\n",
       "      <td>0</td>\n",
       "    </tr>\n",
       "    <tr>\n",
       "      <th>1</th>\n",
       "      <td>id_00332970f80fa9a47a39516d_pbw</td>\n",
       "      <td>0</td>\n",
       "    </tr>\n",
       "    <tr>\n",
       "      <th>2</th>\n",
       "      <td>id_0035981bc3ae42eb5b57a317_abw</td>\n",
       "      <td>0</td>\n",
       "    </tr>\n",
       "    <tr>\n",
       "      <th>3</th>\n",
       "      <td>id_0035981bc3ae42eb5b57a317_pbw</td>\n",
       "      <td>0</td>\n",
       "    </tr>\n",
       "    <tr>\n",
       "      <th>4</th>\n",
       "      <td>id_005102f664b820f778291dee_abw</td>\n",
       "      <td>0</td>\n",
       "    </tr>\n",
       "    <tr>\n",
       "      <th>...</th>\n",
       "      <td>...</td>\n",
       "      <td>...</td>\n",
       "    </tr>\n",
       "    <tr>\n",
       "      <th>5601</th>\n",
       "      <td>id_ffbcb27fa549278f47505515_pbw</td>\n",
       "      <td>0</td>\n",
       "    </tr>\n",
       "    <tr>\n",
       "      <th>5602</th>\n",
       "      <td>id_ffc0e41e10b0c964d4a02811_abw</td>\n",
       "      <td>0</td>\n",
       "    </tr>\n",
       "    <tr>\n",
       "      <th>5603</th>\n",
       "      <td>id_ffc0e41e10b0c964d4a02811_pbw</td>\n",
       "      <td>0</td>\n",
       "    </tr>\n",
       "    <tr>\n",
       "      <th>5604</th>\n",
       "      <td>id_fff8c253115aacded09ad7ed_abw</td>\n",
       "      <td>0</td>\n",
       "    </tr>\n",
       "    <tr>\n",
       "      <th>5605</th>\n",
       "      <td>id_fff8c253115aacded09ad7ed_pbw</td>\n",
       "      <td>0</td>\n",
       "    </tr>\n",
       "  </tbody>\n",
       "</table>\n",
       "<p>5606 rows × 2 columns</p>\n",
       "</div>"
      ],
      "text/plain": [
       "                        image_id_worm  number_of_worms\n",
       "0     id_00332970f80fa9a47a39516d_abw                0\n",
       "1     id_00332970f80fa9a47a39516d_pbw                0\n",
       "2     id_0035981bc3ae42eb5b57a317_abw                0\n",
       "3     id_0035981bc3ae42eb5b57a317_pbw                0\n",
       "4     id_005102f664b820f778291dee_abw                0\n",
       "...                               ...              ...\n",
       "5601  id_ffbcb27fa549278f47505515_pbw                0\n",
       "5602  id_ffc0e41e10b0c964d4a02811_abw                0\n",
       "5603  id_ffc0e41e10b0c964d4a02811_pbw                0\n",
       "5604  id_fff8c253115aacded09ad7ed_abw                0\n",
       "5605  id_fff8c253115aacded09ad7ed_pbw                0\n",
       "\n",
       "[5606 rows x 2 columns]"
      ]
     },
     "execution_count": 86,
     "metadata": {},
     "output_type": "execute_result"
    }
   ],
   "source": [
    "test_sub =  pd.read_csv(\"data/raw/SampleSubmission.csv\")\n",
    "test_sub"
   ]
  },
  {
   "cell_type": "code",
   "execution_count": 87,
   "id": "f9c12b34",
   "metadata": {},
   "outputs": [
    {
     "data": {
      "text/html": [
       "<div>\n",
       "<style scoped>\n",
       "    .dataframe tbody tr th:only-of-type {\n",
       "        vertical-align: middle;\n",
       "    }\n",
       "\n",
       "    .dataframe tbody tr th {\n",
       "        vertical-align: top;\n",
       "    }\n",
       "\n",
       "    .dataframe thead th {\n",
       "        text-align: right;\n",
       "    }\n",
       "</style>\n",
       "<table border=\"1\" class=\"dataframe\">\n",
       "  <thead>\n",
       "    <tr style=\"text-align: right;\">\n",
       "      <th></th>\n",
       "      <th>image_id_worm</th>\n",
       "      <th>number_of_worms</th>\n",
       "    </tr>\n",
       "  </thead>\n",
       "  <tbody>\n",
       "    <tr>\n",
       "      <th>0</th>\n",
       "      <td>id_00332970f80fa9a47a39516d_abw</td>\n",
       "      <td>4</td>\n",
       "    </tr>\n",
       "    <tr>\n",
       "      <th>1</th>\n",
       "      <td>id_00332970f80fa9a47a39516d_pbw</td>\n",
       "      <td>1</td>\n",
       "    </tr>\n",
       "    <tr>\n",
       "      <th>2</th>\n",
       "      <td>id_0035981bc3ae42eb5b57a317_abw</td>\n",
       "      <td>5</td>\n",
       "    </tr>\n",
       "    <tr>\n",
       "      <th>3</th>\n",
       "      <td>id_0035981bc3ae42eb5b57a317_pbw</td>\n",
       "      <td>2</td>\n",
       "    </tr>\n",
       "    <tr>\n",
       "      <th>4</th>\n",
       "      <td>id_005102f664b820f778291dee_abw</td>\n",
       "      <td>6</td>\n",
       "    </tr>\n",
       "    <tr>\n",
       "      <th>...</th>\n",
       "      <td>...</td>\n",
       "      <td>...</td>\n",
       "    </tr>\n",
       "    <tr>\n",
       "      <th>5601</th>\n",
       "      <td>id_ffbcb27fa549278f47505515_pbw</td>\n",
       "      <td>0</td>\n",
       "    </tr>\n",
       "    <tr>\n",
       "      <th>5602</th>\n",
       "      <td>id_ffc0e41e10b0c964d4a02811_abw</td>\n",
       "      <td>0</td>\n",
       "    </tr>\n",
       "    <tr>\n",
       "      <th>5603</th>\n",
       "      <td>id_ffc0e41e10b0c964d4a02811_pbw</td>\n",
       "      <td>0</td>\n",
       "    </tr>\n",
       "    <tr>\n",
       "      <th>5604</th>\n",
       "      <td>id_fff8c253115aacded09ad7ed_abw</td>\n",
       "      <td>6</td>\n",
       "    </tr>\n",
       "    <tr>\n",
       "      <th>5605</th>\n",
       "      <td>id_fff8c253115aacded09ad7ed_pbw</td>\n",
       "      <td>4</td>\n",
       "    </tr>\n",
       "  </tbody>\n",
       "</table>\n",
       "<p>5606 rows × 2 columns</p>\n",
       "</div>"
      ],
      "text/plain": [
       "                        image_id_worm  number_of_worms\n",
       "0     id_00332970f80fa9a47a39516d_abw                4\n",
       "1     id_00332970f80fa9a47a39516d_pbw                1\n",
       "2     id_0035981bc3ae42eb5b57a317_abw                5\n",
       "3     id_0035981bc3ae42eb5b57a317_pbw                2\n",
       "4     id_005102f664b820f778291dee_abw                6\n",
       "...                               ...              ...\n",
       "5601  id_ffbcb27fa549278f47505515_pbw                0\n",
       "5602  id_ffc0e41e10b0c964d4a02811_abw                0\n",
       "5603  id_ffc0e41e10b0c964d4a02811_pbw                0\n",
       "5604  id_fff8c253115aacded09ad7ed_abw                6\n",
       "5605  id_fff8c253115aacded09ad7ed_pbw                4\n",
       "\n",
       "[5606 rows x 2 columns]"
      ]
     },
     "execution_count": 87,
     "metadata": {},
     "output_type": "execute_result"
    }
   ],
   "source": [
    "def get_worm_count(x):\n",
    "    temp_arr= x.split(\"_\")\n",
    "    img_id = \"_\".join(temp_arr[:-1])+\".jpg\"\n",
    "    if img_id not in neg_ids:\n",
    "        if temp_arr[-1]==\"abw\":\n",
    "            return random.randint(1,abw_value)\n",
    "        return random.randint(1,pbw_value)\n",
    "    return 0\n",
    "test_sub['number_of_worms'] = test_sub.image_id_worm.apply(get_worm_count )\n",
    "test_sub"
   ]
  },
  {
   "cell_type": "code",
   "execution_count": 88,
   "id": "4cb7fc07",
   "metadata": {},
   "outputs": [
    {
     "data": {
      "text/plain": [
       "3.473421334284695"
      ]
     },
     "execution_count": 88,
     "metadata": {},
     "output_type": "execute_result"
    }
   ],
   "source": [
    "test_sub.number_of_worms.mean()"
   ]
  },
  {
   "cell_type": "code",
   "execution_count": 90,
   "id": "fa6a2ef8",
   "metadata": {},
   "outputs": [],
   "source": [
    "test_sub.to_csv(\"data/submission/handcraft_randmedian_filter_sub.csv\",index=False)"
   ]
  },
  {
   "cell_type": "code",
   "execution_count": 91,
   "id": "461cd883",
   "metadata": {},
   "outputs": [
    {
     "data": {
      "text/plain": [
       "True"
      ]
     },
     "execution_count": 91,
     "metadata": {},
     "output_type": "execute_result"
    }
   ],
   "source": [
    "\"id_ffc0e41e10b0c964d4a02811.jpg\" in neg_ids"
   ]
  },
  {
   "cell_type": "code",
   "execution_count": null,
   "id": "5dc48be1",
   "metadata": {},
   "outputs": [],
   "source": []
  }
 ],
 "metadata": {
  "kernelspec": {
   "display_name": "Python 3 (ipykernel)",
   "language": "python",
   "name": "python3"
  },
  "language_info": {
   "codemirror_mode": {
    "name": "ipython",
    "version": 3
   },
   "file_extension": ".py",
   "mimetype": "text/x-python",
   "name": "python",
   "nbconvert_exporter": "python",
   "pygments_lexer": "ipython3",
   "version": "3.10.6"
  }
 },
 "nbformat": 4,
 "nbformat_minor": 5
}
